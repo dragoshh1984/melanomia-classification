{
 "cells": [
  {
   "cell_type": "markdown",
   "metadata": {},
   "source": [
    "# Average where small numbers weight more"
   ]
  },
  {
   "cell_type": "code",
   "execution_count": 82,
   "metadata": {},
   "outputs": [],
   "source": [
    "import numpy as np\n",
    "\n",
    "numbers = [0.1, 0.9, 0.8, 0.4, 0.9]\n",
    "\n",
    "def magic1(numbers):\n",
    "    inv_numbers = [1./x for x in numbers]\n",
    "    \n",
    "    return ((sum(inv_numbers)/len(numbers))/min(numbers))/np.mean(numbers)\n",
    "\n",
    "# sqrt based\n",
    "def magic2(numbers):\n",
    "    sqrt_numbers = [np.sqrt(x) for x in numbers]\n",
    "    \n",
    "    return sum(sqrt_numbers)/len(numbers)\n",
    "\n",
    "# log based\n",
    "def magic3(numbers):\n",
    "    log_numbers = [1 + np.log(x+min(numbers)) for x in numbers]\n",
    "    \n",
    "    return sum(log_numbers)/len(numbers)"
   ]
  },
  {
   "cell_type": "code",
   "execution_count": 83,
   "metadata": {},
   "outputs": [
    {
     "data": {
      "text/plain": [
       "51.52329749103942"
      ]
     },
     "execution_count": 83,
     "metadata": {},
     "output_type": "execute_result"
    }
   ],
   "source": [
    "magic1(numbers)"
   ]
  },
  {
   "cell_type": "code",
   "execution_count": 84,
   "metadata": {},
   "outputs": [
    {
     "data": {
      "text/plain": [
       "0.7480954170302916"
      ]
     },
     "execution_count": 84,
     "metadata": {},
     "output_type": "execute_result"
    }
   ],
   "source": [
    "magic2(numbers)"
   ]
  },
  {
   "cell_type": "code",
   "execution_count": 86,
   "metadata": {},
   "outputs": [
    {
     "data": {
      "text/plain": [
       "2.5184108782696257"
      ]
     },
     "execution_count": 86,
     "metadata": {},
     "output_type": "execute_result"
    }
   ],
   "source": [
    "magic3(numbers)"
   ]
  },
  {
   "cell_type": "code",
   "execution_count": null,
   "metadata": {},
   "outputs": [],
   "source": []
  }
 ],
 "metadata": {
  "kernelspec": {
   "display_name": "Python 3",
   "language": "python",
   "name": "python3"
  },
  "language_info": {
   "codemirror_mode": {
    "name": "ipython",
    "version": 3
   },
   "file_extension": ".py",
   "mimetype": "text/x-python",
   "name": "python",
   "nbconvert_exporter": "python",
   "pygments_lexer": "ipython3",
   "version": "3.7.4"
  }
 },
 "nbformat": 4,
 "nbformat_minor": 4
}
