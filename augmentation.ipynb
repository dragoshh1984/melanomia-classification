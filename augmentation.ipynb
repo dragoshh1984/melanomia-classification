{
 "cells": [
  {
   "cell_type": "markdown",
   "metadata": {},
   "source": [
    "# Data augmentation and EDA"
   ]
  },
  {
   "cell_type": "code",
   "execution_count": 133,
   "metadata": {},
   "outputs": [],
   "source": [
    "import os\n",
    "import pandas as pd\n",
    "import numpy as np\n",
    "\n",
    "from PIL import Image\n",
    "\n",
    "import matplotlib.pyplot as plt\n",
    "from tqdm.notebook import tqdm"
   ]
  },
  {
   "cell_type": "code",
   "execution_count": 82,
   "metadata": {},
   "outputs": [],
   "source": [
    "images_path = \"/media/dragoshh1984/Elements/kaggle/datasets/melanoma/images\"\n",
    "images_test_path = \"/media/dragoshh1984/Elements/kaggle/datasets/melanoma/isic_2020/test\""
   ]
  },
  {
   "cell_type": "code",
   "execution_count": 50,
   "metadata": {},
   "outputs": [],
   "source": [
    "def get_size(image_path):\n",
    "    image = Image.open(image_path)\n",
    "    \n",
    "    return image.size[0]*image.size[1]"
   ]
  },
  {
   "cell_type": "code",
   "execution_count": 60,
   "metadata": {},
   "outputs": [
    {
     "data": {
      "application/vnd.jupyter.widget-view+json": {
       "model_id": "ba55dc1580a24c1e9227114ec8868d69",
       "version_major": 2,
       "version_minor": 0
      },
      "text/plain": [
       "HBox(children=(FloatProgress(value=0.0, max=59594.0), HTML(value='')))"
      ]
     },
     "metadata": {},
     "output_type": "display_data"
    },
    {
     "name": "stdout",
     "output_type": "stream",
     "text": [
      "\n"
     ]
    }
   ],
   "source": [
    "images_sizes = []\n",
    "images_names = os.listdir(images_path)\n",
    "df = pd.DataFrame(images_names)\n",
    "for image_name in tqdm(images_names):\n",
    "    images_sizes.append(get_size(os.path.join(images_path, image_name)))"
   ]
  },
  {
   "cell_type": "code",
   "execution_count": 84,
   "metadata": {},
   "outputs": [
    {
     "data": {
      "application/vnd.jupyter.widget-view+json": {
       "model_id": "7fb72b83707d4d28b5cafc75054d8afa",
       "version_major": 2,
       "version_minor": 0
      },
      "text/plain": [
       "HBox(children=(FloatProgress(value=0.0, max=10982.0), HTML(value='')))"
      ]
     },
     "metadata": {},
     "output_type": "display_data"
    },
    {
     "name": "stdout",
     "output_type": "stream",
     "text": [
      "\n"
     ]
    }
   ],
   "source": [
    "images_test_sizes = []\n",
    "images_test_names = os.listdir(images_test_path)\n",
    "for image_name in tqdm(images_test_names):\n",
    "    images_test_sizes.append(get_size(os.path.join(images_test_path, image_name)))"
   ]
  },
  {
   "cell_type": "code",
   "execution_count": 200,
   "metadata": {},
   "outputs": [],
   "source": [
    "df = pd.DataFrame()\n",
    "df[\"image_id\"] = images_names\n",
    "df[\"size\"] = images_sizes\n",
    "\n",
    "df_t = pd.DataFrame()\n",
    "df_t[\"image_id\"] = images_test_names\n",
    "df_t[\"size\"] = images_test_sizes"
   ]
  },
  {
   "cell_type": "code",
   "execution_count": 201,
   "metadata": {},
   "outputs": [],
   "source": [
    "df[\"image_id\"] = df[\"image_id\"].str.replace(\".jpg\", \"\")\n",
    "df_t[\"image_id\"] = df_t[\"image_id\"].str.replace(\".jpg\", \"\")"
   ]
  },
  {
   "cell_type": "code",
   "execution_count": 202,
   "metadata": {},
   "outputs": [],
   "source": [
    "competition_path = \"/home/dragoshh1984/repos/kaggle/datasets/melanomia_classification\"\n",
    "\n",
    "df_train = pd.read_csv(os.path.join(competition_path, \"new_train.csv\"))\n",
    "df_test = pd.read_csv(os.path.join(competition_path, \"new_test.csv\"))"
   ]
  },
  {
   "cell_type": "code",
   "execution_count": 203,
   "metadata": {},
   "outputs": [],
   "source": [
    "new_df_train = pd.merge(df_train, df, how='inner', on=['image_id'])\n",
    "new_df_test = pd.merge(df_test, df_t, how='inner', on=['image_id'])"
   ]
  },
  {
   "cell_type": "markdown",
   "metadata": {},
   "source": [
    "## Normalize size"
   ]
  },
  {
   "cell_type": "code",
   "execution_count": 204,
   "metadata": {},
   "outputs": [],
   "source": [
    "size_train_min = new_df_train['size'].min()\n",
    "size_train_max = new_df_train['size'].max()\n",
    "\n",
    "size_test_min = new_df_test['size'].min()\n",
    "size_test_max = new_df_test['size'].max()"
   ]
  },
  {
   "cell_type": "code",
   "execution_count": 205,
   "metadata": {},
   "outputs": [],
   "source": [
    "new_df_train['size'] = new_df_train['size'].apply(lambda x: (x - size_train_min)/(size_train_max-size_train_min))"
   ]
  },
  {
   "cell_type": "code",
   "execution_count": 206,
   "metadata": {},
   "outputs": [],
   "source": [
    "new_df_test['size'] = new_df_test['size'].apply(lambda x: (x - size_test_min)/(size_test_max-size_test_min))"
   ]
  },
  {
   "cell_type": "code",
   "execution_count": 112,
   "metadata": {},
   "outputs": [],
   "source": [
    "new_df_train.to_csv(os.path.join(competition_path, \"new_train_v2.csv\"), index=False)\n",
    "new_df_test.to_csv(os.path.join(competition_path, \"new_test_v2.csv\"), index=False)"
   ]
  },
  {
   "cell_type": "markdown",
   "metadata": {},
   "source": [
    "## Normalize color mean"
   ]
  },
  {
   "cell_type": "code",
   "execution_count": 113,
   "metadata": {},
   "outputs": [],
   "source": [
    "color_mean_train_min = new_df_train['color_mean'].min()\n",
    "color_mean_train_max = new_df_train['color_mean'].max()\n",
    "color_mean_test_min = new_df_test['color_mean'].min()\n",
    "color_mean_test_max = new_df_test['color_mean'].max()"
   ]
  },
  {
   "cell_type": "code",
   "execution_count": 114,
   "metadata": {},
   "outputs": [],
   "source": [
    "new_df_train['color_mean'] = new_df_train['color_mean'].apply(lambda x: (x - color_mean_train_min)/(color_mean_train_max-color_mean_train_min))"
   ]
  },
  {
   "cell_type": "code",
   "execution_count": 115,
   "metadata": {},
   "outputs": [],
   "source": [
    "new_df_test['color_mean'] = new_df_test['color_mean'].apply(lambda x: (x - color_mean_test_min)/(color_mean_test_max-color_mean_test_min))"
   ]
  },
  {
   "cell_type": "code",
   "execution_count": 116,
   "metadata": {},
   "outputs": [
    {
     "data": {
      "text/plain": [
       "<bound method NDFrame.head of            image_id   patient_id  target  source  sex  age_approx  \\\n",
       "0      ISIC_2637011   IP_7279968       0  ISIC20    1        45.0   \n",
       "1      ISIC_0015719   IP_3075186       0  ISIC20    0        45.0   \n",
       "2      ISIC_0052212   IP_2842074       0  ISIC20    0        50.0   \n",
       "3      ISIC_0068279   IP_6890425       0  ISIC20    0        45.0   \n",
       "4      ISIC_0074268   IP_8723313       0  ISIC20    0        55.0   \n",
       "...             ...          ...     ...     ...  ...         ...   \n",
       "58452  ISIC_0073247  BCN_0003925       0  ISIC19    0        85.0   \n",
       "58453  ISIC_0073248  BCN_0001819       0  ISIC19    1        65.0   \n",
       "58454  ISIC_0073249  BCN_0001085       1  ISIC19    1        70.0   \n",
       "58455  ISIC_0073251  BCN_0002083       0  ISIC19    0        55.0   \n",
       "58456  ISIC_0073254  BCN_0001079       0  ISIC19    1        50.0   \n",
       "\n",
       "       anatom_site_general_challenge  stratify_group  fold  color_mean  \\\n",
       "0                                  0              32     2    0.667276   \n",
       "1                                  7              28     1    0.672783   \n",
       "2                                  2               8     1    0.618096   \n",
       "3                                  0               2     4    0.275316   \n",
       "4                                  7              28     3    0.729215   \n",
       "...                              ...             ...   ...         ...   \n",
       "58452                              0               0     4    0.329465   \n",
       "58453                              5              48     3    0.530909   \n",
       "58454                              2              37     3    0.543615   \n",
       "58455                              4              14     2    0.448120   \n",
       "58456                              7              56     1    0.632079   \n",
       "\n",
       "           size  \n",
       "0      1.000000  \n",
       "1      1.000000  \n",
       "2      0.071691  \n",
       "3      0.071691  \n",
       "4      1.000000  \n",
       "...         ...  \n",
       "58452  0.032810  \n",
       "58453  0.032810  \n",
       "58454  0.032810  \n",
       "58455  0.032810  \n",
       "58456  0.032810  \n",
       "\n",
       "[58457 rows x 11 columns]>"
      ]
     },
     "execution_count": 116,
     "metadata": {},
     "output_type": "execute_result"
    }
   ],
   "source": [
    "new_df_train.head"
   ]
  },
  {
   "cell_type": "markdown",
   "metadata": {},
   "source": [
    "## Get color variance for each channel"
   ]
  },
  {
   "cell_type": "code",
   "execution_count": 157,
   "metadata": {},
   "outputs": [
    {
     "name": "stdout",
     "output_type": "stream",
     "text": [
      "508.512067840835\n",
      "331.54142204827133\n",
      "346.94716242661445\n"
     ]
    }
   ],
   "source": [
    "image = Image.open(os.path.join(images_path, \"ISIC_0000001.jpg\"))\n",
    "channels = np.array(image)\n",
    "red = channels[0]\n",
    "green = channels[1]\n",
    "blue = channels[2]\n",
    "\n",
    "red_mean = np.mean(red)\n",
    "green_mean = np.mean(green)\n",
    "blue_mean = np.mean(blue)\n",
    "\n",
    "std_red = (np.sum(red) - len(red) * red_mean) / len(red)\n",
    "std_green = (np.sum(green) - len(green) * green_mean) / len(green)\n",
    "std_blue = (np.sum(blue) - len(blue) * blue_mean) / len(blue)\n",
    "print(std_red)\n",
    "print(std_green)\n",
    "print(std_blue)"
   ]
  },
  {
   "cell_type": "code",
   "execution_count": 159,
   "metadata": {},
   "outputs": [],
   "source": [
    "def get_variances(image_path):\n",
    "    image = Image.open(image_path)\n",
    "    channels = np.array(image)\n",
    "    red = channels[0]\n",
    "    green = channels[1]\n",
    "    blue = channels[2]\n",
    "\n",
    "    red_mean = np.mean(red)\n",
    "    green_mean = np.mean(green)\n",
    "    blue_mean = np.mean(blue)\n",
    "\n",
    "    std_red = (np.sum(red) - len(red) * red_mean) / len(red)\n",
    "    std_green = (np.sum(green) - len(green) * green_mean) / len(green)\n",
    "    std_blue = (np.sum(blue) - len(blue) * blue_mean) / len(blue)\n",
    "    \n",
    "    return std_red, std_green, std_blue"
   ]
  },
  {
   "cell_type": "code",
   "execution_count": 162,
   "metadata": {},
   "outputs": [
    {
     "data": {
      "application/vnd.jupyter.widget-view+json": {
       "model_id": "7242a3cd6d3949b780c5c4f24d0b3d45",
       "version_major": 2,
       "version_minor": 0
      },
      "text/plain": [
       "HBox(children=(FloatProgress(value=0.0, max=59594.0), HTML(value='')))"
      ]
     },
     "metadata": {},
     "output_type": "display_data"
    },
    {
     "name": "stdout",
     "output_type": "stream",
     "text": [
      "\n"
     ]
    }
   ],
   "source": [
    "images_stds_red = []\n",
    "images_stds_green = []\n",
    "images_stds_blue = []\n",
    "\n",
    "images_names = os.listdir(images_path)\n",
    "for image_name in tqdm(images_names):\n",
    "    red_std, green_std, blue_std = get_variances(os.path.join(images_path, image_name))\n",
    "    images_stds_red.append(red_std)\n",
    "    images_stds_green.append(green_std)\n",
    "    images_stds_blue.append(blue_std)"
   ]
  },
  {
   "cell_type": "code",
   "execution_count": 164,
   "metadata": {},
   "outputs": [
    {
     "data": {
      "application/vnd.jupyter.widget-view+json": {
       "model_id": "59c02ab777d345c0a9a04c6e3cce962d",
       "version_major": 2,
       "version_minor": 0
      },
      "text/plain": [
       "HBox(children=(FloatProgress(value=0.0, max=10982.0), HTML(value='')))"
      ]
     },
     "metadata": {},
     "output_type": "display_data"
    },
    {
     "name": "stdout",
     "output_type": "stream",
     "text": [
      "\n"
     ]
    }
   ],
   "source": [
    "images_test_stds_red = []\n",
    "images_test_stds_green = []\n",
    "images_test_stds_blue = []\n",
    "\n",
    "images_test_names = os.listdir(images_test_path)\n",
    "for image_name in tqdm(images_test_names):\n",
    "    red_std, green_std, blue_std = get_variances(os.path.join(images_test_path, image_name))\n",
    "    images_test_stds_red.append(red_std)\n",
    "    images_test_stds_green.append(green_std)\n",
    "    images_test_stds_blue.append(blue_std)"
   ]
  },
  {
   "cell_type": "code",
   "execution_count": 207,
   "metadata": {},
   "outputs": [],
   "source": [
    "df = pd.DataFrame()\n",
    "df[\"image_id\"] = images_names\n",
    "df[\"red_std\"] = images_stds_red\n",
    "df[\"green_std\"] = images_stds_green\n",
    "df[\"blue_std\"] = images_stds_blue\n",
    "\n",
    "df_t = pd.DataFrame()\n",
    "df_t[\"image_id\"] = images_test_names\n",
    "df_t[\"red_std\"] = images_test_stds_red\n",
    "df_t[\"green_std\"] = images_test_stds_green\n",
    "df_t[\"blue_std\"] = images_test_stds_blue\n",
    "\n",
    "df[\"image_id\"] = df[\"image_id\"].str.replace(\".jpg\", \"\")\n",
    "df_t[\"image_id\"] = df_t[\"image_id\"].str.replace(\".jpg\", \"\")"
   ]
  },
  {
   "cell_type": "code",
   "execution_count": 208,
   "metadata": {},
   "outputs": [],
   "source": [
    "new_df_train = pd.merge(new_df_train, df, how='inner', on=['image_id'])\n",
    "new_df_test = pd.merge(new_df_test, df_t, how='inner', on=['image_id'])"
   ]
  },
  {
   "cell_type": "code",
   "execution_count": 209,
   "metadata": {},
   "outputs": [
    {
     "data": {
      "text/html": [
       "<div>\n",
       "<style scoped>\n",
       "    .dataframe tbody tr th:only-of-type {\n",
       "        vertical-align: middle;\n",
       "    }\n",
       "\n",
       "    .dataframe tbody tr th {\n",
       "        vertical-align: top;\n",
       "    }\n",
       "\n",
       "    .dataframe thead th {\n",
       "        text-align: right;\n",
       "    }\n",
       "</style>\n",
       "<table border=\"1\" class=\"dataframe\">\n",
       "  <thead>\n",
       "    <tr style=\"text-align: right;\">\n",
       "      <th></th>\n",
       "      <th>image_id</th>\n",
       "      <th>patient_id</th>\n",
       "      <th>target</th>\n",
       "      <th>source</th>\n",
       "      <th>sex</th>\n",
       "      <th>age_approx</th>\n",
       "      <th>anatom_site_general_challenge</th>\n",
       "      <th>stratify_group</th>\n",
       "      <th>fold</th>\n",
       "      <th>color_mean</th>\n",
       "      <th>size</th>\n",
       "      <th>red_std</th>\n",
       "      <th>green_std</th>\n",
       "      <th>blue_std</th>\n",
       "    </tr>\n",
       "  </thead>\n",
       "  <tbody>\n",
       "    <tr>\n",
       "      <th>0</th>\n",
       "      <td>ISIC_2637011</td>\n",
       "      <td>IP_7279968</td>\n",
       "      <td>0</td>\n",
       "      <td>ISIC20</td>\n",
       "      <td>1</td>\n",
       "      <td>45.0</td>\n",
       "      <td>0</td>\n",
       "      <td>32</td>\n",
       "      <td>2</td>\n",
       "      <td>169.748642</td>\n",
       "      <td>1.000000</td>\n",
       "      <td>17.384556</td>\n",
       "      <td>17.398164</td>\n",
       "      <td>17.411506</td>\n",
       "    </tr>\n",
       "    <tr>\n",
       "      <th>1</th>\n",
       "      <td>ISIC_0015719</td>\n",
       "      <td>IP_3075186</td>\n",
       "      <td>0</td>\n",
       "      <td>ISIC20</td>\n",
       "      <td>0</td>\n",
       "      <td>45.0</td>\n",
       "      <td>7</td>\n",
       "      <td>28</td>\n",
       "      <td>1</td>\n",
       "      <td>171.006387</td>\n",
       "      <td>1.000000</td>\n",
       "      <td>17.930105</td>\n",
       "      <td>17.936428</td>\n",
       "      <td>17.941234</td>\n",
       "    </tr>\n",
       "    <tr>\n",
       "      <th>2</th>\n",
       "      <td>ISIC_0052212</td>\n",
       "      <td>IP_2842074</td>\n",
       "      <td>0</td>\n",
       "      <td>ISIC20</td>\n",
       "      <td>0</td>\n",
       "      <td>50.0</td>\n",
       "      <td>2</td>\n",
       "      <td>8</td>\n",
       "      <td>1</td>\n",
       "      <td>158.517989</td>\n",
       "      <td>0.071691</td>\n",
       "      <td>18.678024</td>\n",
       "      <td>18.685068</td>\n",
       "      <td>18.680589</td>\n",
       "    </tr>\n",
       "    <tr>\n",
       "      <th>3</th>\n",
       "      <td>ISIC_0068279</td>\n",
       "      <td>IP_6890425</td>\n",
       "      <td>0</td>\n",
       "      <td>ISIC20</td>\n",
       "      <td>0</td>\n",
       "      <td>45.0</td>\n",
       "      <td>0</td>\n",
       "      <td>2</td>\n",
       "      <td>4</td>\n",
       "      <td>80.240191</td>\n",
       "      <td>0.071691</td>\n",
       "      <td>14.857910</td>\n",
       "      <td>14.866296</td>\n",
       "      <td>14.853163</td>\n",
       "    </tr>\n",
       "    <tr>\n",
       "      <th>4</th>\n",
       "      <td>ISIC_0074268</td>\n",
       "      <td>IP_8723313</td>\n",
       "      <td>0</td>\n",
       "      <td>ISIC20</td>\n",
       "      <td>0</td>\n",
       "      <td>55.0</td>\n",
       "      <td>7</td>\n",
       "      <td>28</td>\n",
       "      <td>3</td>\n",
       "      <td>183.893274</td>\n",
       "      <td>1.000000</td>\n",
       "      <td>18.937690</td>\n",
       "      <td>18.943738</td>\n",
       "      <td>18.948799</td>\n",
       "    </tr>\n",
       "    <tr>\n",
       "      <th>...</th>\n",
       "      <td>...</td>\n",
       "      <td>...</td>\n",
       "      <td>...</td>\n",
       "      <td>...</td>\n",
       "      <td>...</td>\n",
       "      <td>...</td>\n",
       "      <td>...</td>\n",
       "      <td>...</td>\n",
       "      <td>...</td>\n",
       "      <td>...</td>\n",
       "      <td>...</td>\n",
       "      <td>...</td>\n",
       "      <td>...</td>\n",
       "      <td>...</td>\n",
       "    </tr>\n",
       "    <tr>\n",
       "      <th>58452</th>\n",
       "      <td>ISIC_0073247</td>\n",
       "      <td>BCN_0003925</td>\n",
       "      <td>0</td>\n",
       "      <td>ISIC19</td>\n",
       "      <td>0</td>\n",
       "      <td>85.0</td>\n",
       "      <td>0</td>\n",
       "      <td>0</td>\n",
       "      <td>4</td>\n",
       "      <td>92.605895</td>\n",
       "      <td>0.032810</td>\n",
       "      <td>1.523257</td>\n",
       "      <td>1.523257</td>\n",
       "      <td>1.523257</td>\n",
       "    </tr>\n",
       "    <tr>\n",
       "      <th>58453</th>\n",
       "      <td>ISIC_0073248</td>\n",
       "      <td>BCN_0001819</td>\n",
       "      <td>0</td>\n",
       "      <td>ISIC19</td>\n",
       "      <td>1</td>\n",
       "      <td>65.0</td>\n",
       "      <td>5</td>\n",
       "      <td>48</td>\n",
       "      <td>3</td>\n",
       "      <td>138.607723</td>\n",
       "      <td>0.032810</td>\n",
       "      <td>15.809123</td>\n",
       "      <td>15.816637</td>\n",
       "      <td>15.828035</td>\n",
       "    </tr>\n",
       "    <tr>\n",
       "      <th>58454</th>\n",
       "      <td>ISIC_0073249</td>\n",
       "      <td>BCN_0001085</td>\n",
       "      <td>1</td>\n",
       "      <td>ISIC19</td>\n",
       "      <td>1</td>\n",
       "      <td>70.0</td>\n",
       "      <td>2</td>\n",
       "      <td>37</td>\n",
       "      <td>3</td>\n",
       "      <td>141.509337</td>\n",
       "      <td>0.032810</td>\n",
       "      <td>19.015276</td>\n",
       "      <td>18.986889</td>\n",
       "      <td>18.963180</td>\n",
       "    </tr>\n",
       "    <tr>\n",
       "      <th>58455</th>\n",
       "      <td>ISIC_0073251</td>\n",
       "      <td>BCN_0002083</td>\n",
       "      <td>0</td>\n",
       "      <td>ISIC19</td>\n",
       "      <td>0</td>\n",
       "      <td>55.0</td>\n",
       "      <td>4</td>\n",
       "      <td>14</td>\n",
       "      <td>2</td>\n",
       "      <td>119.702019</td>\n",
       "      <td>0.032810</td>\n",
       "      <td>16.433301</td>\n",
       "      <td>16.435579</td>\n",
       "      <td>16.437163</td>\n",
       "    </tr>\n",
       "    <tr>\n",
       "      <th>58456</th>\n",
       "      <td>ISIC_0073254</td>\n",
       "      <td>BCN_0001079</td>\n",
       "      <td>0</td>\n",
       "      <td>ISIC19</td>\n",
       "      <td>1</td>\n",
       "      <td>50.0</td>\n",
       "      <td>7</td>\n",
       "      <td>56</td>\n",
       "      <td>1</td>\n",
       "      <td>161.711071</td>\n",
       "      <td>0.032810</td>\n",
       "      <td>20.854718</td>\n",
       "      <td>20.844960</td>\n",
       "      <td>20.840431</td>\n",
       "    </tr>\n",
       "  </tbody>\n",
       "</table>\n",
       "<p>58457 rows × 14 columns</p>\n",
       "</div>"
      ],
      "text/plain": [
       "           image_id   patient_id  target  source  sex  age_approx  \\\n",
       "0      ISIC_2637011   IP_7279968       0  ISIC20    1        45.0   \n",
       "1      ISIC_0015719   IP_3075186       0  ISIC20    0        45.0   \n",
       "2      ISIC_0052212   IP_2842074       0  ISIC20    0        50.0   \n",
       "3      ISIC_0068279   IP_6890425       0  ISIC20    0        45.0   \n",
       "4      ISIC_0074268   IP_8723313       0  ISIC20    0        55.0   \n",
       "...             ...          ...     ...     ...  ...         ...   \n",
       "58452  ISIC_0073247  BCN_0003925       0  ISIC19    0        85.0   \n",
       "58453  ISIC_0073248  BCN_0001819       0  ISIC19    1        65.0   \n",
       "58454  ISIC_0073249  BCN_0001085       1  ISIC19    1        70.0   \n",
       "58455  ISIC_0073251  BCN_0002083       0  ISIC19    0        55.0   \n",
       "58456  ISIC_0073254  BCN_0001079       0  ISIC19    1        50.0   \n",
       "\n",
       "       anatom_site_general_challenge  stratify_group  fold  color_mean  \\\n",
       "0                                  0              32     2  169.748642   \n",
       "1                                  7              28     1  171.006387   \n",
       "2                                  2               8     1  158.517989   \n",
       "3                                  0               2     4   80.240191   \n",
       "4                                  7              28     3  183.893274   \n",
       "...                              ...             ...   ...         ...   \n",
       "58452                              0               0     4   92.605895   \n",
       "58453                              5              48     3  138.607723   \n",
       "58454                              2              37     3  141.509337   \n",
       "58455                              4              14     2  119.702019   \n",
       "58456                              7              56     1  161.711071   \n",
       "\n",
       "           size    red_std  green_std   blue_std  \n",
       "0      1.000000  17.384556  17.398164  17.411506  \n",
       "1      1.000000  17.930105  17.936428  17.941234  \n",
       "2      0.071691  18.678024  18.685068  18.680589  \n",
       "3      0.071691  14.857910  14.866296  14.853163  \n",
       "4      1.000000  18.937690  18.943738  18.948799  \n",
       "...         ...        ...        ...        ...  \n",
       "58452  0.032810   1.523257   1.523257   1.523257  \n",
       "58453  0.032810  15.809123  15.816637  15.828035  \n",
       "58454  0.032810  19.015276  18.986889  18.963180  \n",
       "58455  0.032810  16.433301  16.435579  16.437163  \n",
       "58456  0.032810  20.854718  20.844960  20.840431  \n",
       "\n",
       "[58457 rows x 14 columns]"
      ]
     },
     "execution_count": 209,
     "metadata": {},
     "output_type": "execute_result"
    }
   ],
   "source": [
    "new_df_train[\"red_std\"] = new_df_train[\"red_std\"].apply(np.sqrt)\n",
    "new_df_train[\"green_std\"] = new_df_train[\"green_std\"].apply(np.sqrt)\n",
    "new_df_train[\"blue_std\"] = new_df_train[\"blue_std\"].apply(np.sqrt)\n",
    "\n",
    "new_df_train"
   ]
  },
  {
   "cell_type": "code",
   "execution_count": 210,
   "metadata": {},
   "outputs": [
    {
     "data": {
      "text/html": [
       "<div>\n",
       "<style scoped>\n",
       "    .dataframe tbody tr th:only-of-type {\n",
       "        vertical-align: middle;\n",
       "    }\n",
       "\n",
       "    .dataframe tbody tr th {\n",
       "        vertical-align: top;\n",
       "    }\n",
       "\n",
       "    .dataframe thead th {\n",
       "        text-align: right;\n",
       "    }\n",
       "</style>\n",
       "<table border=\"1\" class=\"dataframe\">\n",
       "  <thead>\n",
       "    <tr style=\"text-align: right;\">\n",
       "      <th></th>\n",
       "      <th>image_id</th>\n",
       "      <th>patient_id</th>\n",
       "      <th>sex</th>\n",
       "      <th>age_approx</th>\n",
       "      <th>anatom_site_general_challenge</th>\n",
       "      <th>color_mean</th>\n",
       "      <th>size</th>\n",
       "      <th>red_std</th>\n",
       "      <th>green_std</th>\n",
       "      <th>blue_std</th>\n",
       "    </tr>\n",
       "  </thead>\n",
       "  <tbody>\n",
       "    <tr>\n",
       "      <th>0</th>\n",
       "      <td>ISIC_0052060</td>\n",
       "      <td>IP_3579794</td>\n",
       "      <td>1</td>\n",
       "      <td>70.0</td>\n",
       "      <td>5</td>\n",
       "      <td>189.277809</td>\n",
       "      <td>1.000000</td>\n",
       "      <td>372.718778</td>\n",
       "      <td>372.795778</td>\n",
       "      <td>372.944000</td>\n",
       "    </tr>\n",
       "    <tr>\n",
       "      <th>1</th>\n",
       "      <td>ISIC_0052349</td>\n",
       "      <td>IP_7782715</td>\n",
       "      <td>1</td>\n",
       "      <td>40.0</td>\n",
       "      <td>1</td>\n",
       "      <td>206.813796</td>\n",
       "      <td>1.000000</td>\n",
       "      <td>394.091556</td>\n",
       "      <td>394.146444</td>\n",
       "      <td>394.217222</td>\n",
       "    </tr>\n",
       "    <tr>\n",
       "      <th>2</th>\n",
       "      <td>ISIC_0058510</td>\n",
       "      <td>IP_7960270</td>\n",
       "      <td>0</td>\n",
       "      <td>55.0</td>\n",
       "      <td>4</td>\n",
       "      <td>218.775140</td>\n",
       "      <td>1.000000</td>\n",
       "      <td>434.765111</td>\n",
       "      <td>434.774000</td>\n",
       "      <td>434.858000</td>\n",
       "    </tr>\n",
       "    <tr>\n",
       "      <th>3</th>\n",
       "      <td>ISIC_0073313</td>\n",
       "      <td>IP_6375035</td>\n",
       "      <td>0</td>\n",
       "      <td>50.0</td>\n",
       "      <td>4</td>\n",
       "      <td>216.443701</td>\n",
       "      <td>1.000000</td>\n",
       "      <td>419.636333</td>\n",
       "      <td>419.614667</td>\n",
       "      <td>419.591778</td>\n",
       "    </tr>\n",
       "    <tr>\n",
       "      <th>4</th>\n",
       "      <td>ISIC_0073502</td>\n",
       "      <td>IP_0589375</td>\n",
       "      <td>0</td>\n",
       "      <td>45.0</td>\n",
       "      <td>1</td>\n",
       "      <td>146.235956</td>\n",
       "      <td>0.074554</td>\n",
       "      <td>244.300000</td>\n",
       "      <td>245.023958</td>\n",
       "      <td>245.562500</td>\n",
       "    </tr>\n",
       "    <tr>\n",
       "      <th>...</th>\n",
       "      <td>...</td>\n",
       "      <td>...</td>\n",
       "      <td>...</td>\n",
       "      <td>...</td>\n",
       "      <td>...</td>\n",
       "      <td>...</td>\n",
       "      <td>...</td>\n",
       "      <td>...</td>\n",
       "      <td>...</td>\n",
       "      <td>...</td>\n",
       "    </tr>\n",
       "    <tr>\n",
       "      <th>10977</th>\n",
       "      <td>ISIC_9992485</td>\n",
       "      <td>IP_4152479</td>\n",
       "      <td>1</td>\n",
       "      <td>40.0</td>\n",
       "      <td>4</td>\n",
       "      <td>140.586552</td>\n",
       "      <td>0.000000</td>\n",
       "      <td>267.165625</td>\n",
       "      <td>261.788542</td>\n",
       "      <td>258.226042</td>\n",
       "    </tr>\n",
       "    <tr>\n",
       "      <th>10978</th>\n",
       "      <td>ISIC_9996992</td>\n",
       "      <td>IP_4890115</td>\n",
       "      <td>1</td>\n",
       "      <td>35.0</td>\n",
       "      <td>4</td>\n",
       "      <td>153.304031</td>\n",
       "      <td>0.198833</td>\n",
       "      <td>222.658951</td>\n",
       "      <td>222.841049</td>\n",
       "      <td>223.198302</td>\n",
       "    </tr>\n",
       "    <tr>\n",
       "      <th>10979</th>\n",
       "      <td>ISIC_9997917</td>\n",
       "      <td>IP_2852390</td>\n",
       "      <td>1</td>\n",
       "      <td>25.0</td>\n",
       "      <td>6</td>\n",
       "      <td>164.849692</td>\n",
       "      <td>0.000000</td>\n",
       "      <td>442.215625</td>\n",
       "      <td>442.944792</td>\n",
       "      <td>443.786458</td>\n",
       "    </tr>\n",
       "    <tr>\n",
       "      <th>10980</th>\n",
       "      <td>ISIC_9998234</td>\n",
       "      <td>IP_8861963</td>\n",
       "      <td>1</td>\n",
       "      <td>65.0</td>\n",
       "      <td>1</td>\n",
       "      <td>191.778987</td>\n",
       "      <td>1.000000</td>\n",
       "      <td>378.845889</td>\n",
       "      <td>379.031667</td>\n",
       "      <td>379.313556</td>\n",
       "    </tr>\n",
       "    <tr>\n",
       "      <th>10981</th>\n",
       "      <td>ISIC_9999302</td>\n",
       "      <td>IP_6214039</td>\n",
       "      <td>1</td>\n",
       "      <td>30.0</td>\n",
       "      <td>6</td>\n",
       "      <td>141.970907</td>\n",
       "      <td>0.074554</td>\n",
       "      <td>236.495486</td>\n",
       "      <td>237.222569</td>\n",
       "      <td>238.038542</td>\n",
       "    </tr>\n",
       "  </tbody>\n",
       "</table>\n",
       "<p>10982 rows × 10 columns</p>\n",
       "</div>"
      ],
      "text/plain": [
       "           image_id  patient_id  sex  age_approx  \\\n",
       "0      ISIC_0052060  IP_3579794    1        70.0   \n",
       "1      ISIC_0052349  IP_7782715    1        40.0   \n",
       "2      ISIC_0058510  IP_7960270    0        55.0   \n",
       "3      ISIC_0073313  IP_6375035    0        50.0   \n",
       "4      ISIC_0073502  IP_0589375    0        45.0   \n",
       "...             ...         ...  ...         ...   \n",
       "10977  ISIC_9992485  IP_4152479    1        40.0   \n",
       "10978  ISIC_9996992  IP_4890115    1        35.0   \n",
       "10979  ISIC_9997917  IP_2852390    1        25.0   \n",
       "10980  ISIC_9998234  IP_8861963    1        65.0   \n",
       "10981  ISIC_9999302  IP_6214039    1        30.0   \n",
       "\n",
       "       anatom_site_general_challenge  color_mean      size     red_std  \\\n",
       "0                                  5  189.277809  1.000000  372.718778   \n",
       "1                                  1  206.813796  1.000000  394.091556   \n",
       "2                                  4  218.775140  1.000000  434.765111   \n",
       "3                                  4  216.443701  1.000000  419.636333   \n",
       "4                                  1  146.235956  0.074554  244.300000   \n",
       "...                              ...         ...       ...         ...   \n",
       "10977                              4  140.586552  0.000000  267.165625   \n",
       "10978                              4  153.304031  0.198833  222.658951   \n",
       "10979                              6  164.849692  0.000000  442.215625   \n",
       "10980                              1  191.778987  1.000000  378.845889   \n",
       "10981                              6  141.970907  0.074554  236.495486   \n",
       "\n",
       "        green_std    blue_std  \n",
       "0      372.795778  372.944000  \n",
       "1      394.146444  394.217222  \n",
       "2      434.774000  434.858000  \n",
       "3      419.614667  419.591778  \n",
       "4      245.023958  245.562500  \n",
       "...           ...         ...  \n",
       "10977  261.788542  258.226042  \n",
       "10978  222.841049  223.198302  \n",
       "10979  442.944792  443.786458  \n",
       "10980  379.031667  379.313556  \n",
       "10981  237.222569  238.038542  \n",
       "\n",
       "[10982 rows x 10 columns]"
      ]
     },
     "execution_count": 210,
     "metadata": {},
     "output_type": "execute_result"
    }
   ],
   "source": [
    "new_df_test"
   ]
  },
  {
   "cell_type": "code",
   "execution_count": null,
   "metadata": {},
   "outputs": [],
   "source": []
  },
  {
   "cell_type": "code",
   "execution_count": 211,
   "metadata": {},
   "outputs": [],
   "source": [
    "new_df_train.to_csv(os.path.join(competition_path, \"new_train_v3.csv\"), index=False)\n",
    "new_df_test.to_csv(os.path.join(competition_path, \"new_test_v3.csv\"), index=False)"
   ]
  },
  {
   "cell_type": "code",
   "execution_count": null,
   "metadata": {},
   "outputs": [],
   "source": []
  }
 ],
 "metadata": {
  "kernelspec": {
   "display_name": "Python 3",
   "language": "python",
   "name": "python3"
  },
  "language_info": {
   "codemirror_mode": {
    "name": "ipython",
    "version": 3
   },
   "file_extension": ".py",
   "mimetype": "text/x-python",
   "name": "python",
   "nbconvert_exporter": "python",
   "pygments_lexer": "ipython3",
   "version": "3.7.4"
  }
 },
 "nbformat": 4,
 "nbformat_minor": 4
}
